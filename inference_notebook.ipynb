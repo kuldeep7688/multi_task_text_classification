{
 "cells": [
  {
   "cell_type": "code",
   "execution_count": 20,
   "metadata": {},
   "outputs": [],
   "source": [
    "import random\n",
    "random.seed(123)"
   ]
  },
  {
   "cell_type": "code",
   "execution_count": 28,
   "metadata": {},
   "outputs": [],
   "source": [
    "import numpy as np\n",
    "import os\n",
    "from datetime import datetime\n",
    "import pandas as pd\n",
    "from tqdm import tqdm\n",
    "\n",
    "import datasets\n",
    "import evaluate\n",
    "\n",
    "import torch\n",
    "import torch.nn as nn\n",
    "\n",
    "from transformers import AutoTokenizer, BertConfig, BertModel, BertPreTrainedModel\n",
    "\n",
    "from sklearn.metrics import f1_score, accuracy_score"
   ]
  },
  {
   "cell_type": "code",
   "execution_count": 1,
   "metadata": {},
   "outputs": [],
   "source": [
    "MAX_LENGTH = 512"
   ]
  },
  {
   "cell_type": "code",
   "execution_count": 10,
   "metadata": {},
   "outputs": [],
   "source": [
    "PRODUCT_LABELS = [\n",
    "    'Vehicle loan or lease', 'Student loan', 'Consumer Loan'\n",
    "]\n",
    "\n",
    "ISSUE_LABELS = [\n",
    "    'Managing the loan or lease', 'Problems at the end of the loan or lease', 'Struggling to pay your loan', 'Getting a loan or lease', 'Dealing with your lender or servicer', 'Incorrect information on your report', 'Problems when you are unable to pay', 'Taking out the loan or lease'\n",
    "]\n",
    "\n",
    "PRODUCT_LABELS_TO_IDX = {\n",
    "    i : idx\n",
    "    for idx, i in enumerate(PRODUCT_LABELS)\n",
    "}\n",
    "\n",
    "IDX_TO_PRODUCT_LABELS = {\n",
    "    i: j\n",
    "    for j, i in PRODUCT_LABELS_TO_IDX.items()\n",
    "}\n",
    "\n",
    "ISSUE_LABELS_TO_IDX = {\n",
    "    i : idx\n",
    "    for idx, i in enumerate(ISSUE_LABELS)\n",
    "}\n",
    "\n",
    "IDX_TO_ISSUE_LABELS = {\n",
    "    i: j\n",
    "    for j, i in ISSUE_LABELS_TO_IDX.items()\n",
    "}\n",
    "\n",
    "\n",
    "MAX_SEQUENCE_LENGTH = 512\n",
    "PRETRAINED_MODEL_NAME = \"distilbert-base-uncased\"\n",
    "NUM_TRAIN_EPOCHS = 10\n",
    "FINETUNED_MODEL_PATH = './results/experiment_2024-06-19_20-51-41/checkpoint-17000'"
   ]
  },
  {
   "cell_type": "code",
   "execution_count": 15,
   "metadata": {},
   "outputs": [],
   "source": [
    "class MultiTaskSentencePrediction(BertPreTrainedModel):\n",
    "    def __init__(self, config, num_product_labels, num_issue_labels):\n",
    "        super().__init__(config)\n",
    "        self.num_product_labels = num_product_labels\n",
    "        self.num_issue_labels = num_issue_labels\n",
    "\n",
    "        self.bert = BertModel(config)\n",
    "\n",
    "        self.product_classifier = nn.Linear(config.hidden_size, num_product_labels)\n",
    "        self.issue_classifier = nn.Linear(config.hidden_size, num_issue_labels)\n",
    "\n",
    "        classifier_dropout = config.classifier_dropout if config.classifier_dropout is not None else config.hidden_dropout_prob\n",
    "        \n",
    "        self.dropout = nn.Dropout(classifier_dropout)\n",
    "        self.init_weights()\n",
    "\n",
    "    def forward(\n",
    "            self, input_ids, attention_mask=None, token_type_ids=None, \n",
    "            product_label=None, issue_label=None \n",
    "    ):\n",
    "        outputs = self.bert(\n",
    "            input_ids, attention_mask=attention_mask,\n",
    "            token_type_ids=token_type_ids\n",
    "        )\n",
    "        pooled_outputs = self.dropout(outputs[1])\n",
    "        \n",
    "        logits_product = self.product_classifier(pooled_outputs)\n",
    "        logits_issue = self.issue_classifier(pooled_outputs)\n",
    "\n",
    "        loss = None\n",
    "        if product_label != None and issue_label != None:\n",
    "            loss_fct1 = nn.CrossEntropyLoss()\n",
    "            loss_fct2 = nn.CrossEntropyLoss()\n",
    "\n",
    "            loss = loss_fct1(\n",
    "                logits_product.view(-1, self.num_product_labels),\n",
    "                product_label.view(-1)\n",
    "            ) + loss_fct2(\n",
    "                logits_issue.view(-1, self.num_issue_labels),\n",
    "                issue_label.view(-1)\n",
    "            )\n",
    "        \n",
    "        return (loss, logits_product, logits_issue) if loss is not None else (logits_product, logits_issue)"
   ]
  },
  {
   "cell_type": "code",
   "execution_count": 12,
   "metadata": {},
   "outputs": [
    {
     "name": "stderr",
     "output_type": "stream",
     "text": [
      "You are using a model of type distilbert to instantiate a model of type bert. This is not supported for all configurations of models and can yield errors.\n"
     ]
    }
   ],
   "source": [
    "# initializing Config and Tokenizer\n",
    "BERT_CONFIG = BertConfig.from_pretrained(PRETRAINED_MODEL_NAME)\n",
    "TOKENIZER = AutoTokenizer.from_pretrained(PRETRAINED_MODEL_NAME)"
   ]
  },
  {
   "cell_type": "code",
   "execution_count": 18,
   "metadata": {},
   "outputs": [
    {
     "name": "stdout",
     "output_type": "stream",
     "text": [
      "Model loaded successfully...\n"
     ]
    }
   ],
   "source": [
    "# loading model \n",
    "model = MultiTaskSentencePrediction.from_pretrained(\n",
    "    FINETUNED_MODEL_PATH, config=BERT_CONFIG,\n",
    "    num_product_labels=len(PRODUCT_LABELS), num_issue_labels=len(ISSUE_LABELS)\n",
    ")\n",
    "print('Model loaded successfully...')"
   ]
  },
  {
   "cell_type": "code",
   "execution_count": 39,
   "metadata": {},
   "outputs": [],
   "source": [
    "def get_predictions_on_dataframe(df, model):\n",
    "    predictions_product = []\n",
    "    predictions_issue = []\n",
    "\n",
    "    probability_product = []\n",
    "    probability_issue = []\n",
    "\n",
    "    for text in tqdm(df.consumer_complaint, total=df.shape[0]):\n",
    "        if len(text) > 0:\n",
    "            inputs_to_model = TOKENIZER(text, padding=True, truncation=True)\n",
    "            inputs_to_model['input_ids'] = torch.tensor([inputs_to_model['input_ids'][:MAX_SEQUENCE_LENGTH]])\n",
    "            # inputs_to_model['token_type_ids'] = torch.tensor([inputs_to_model['token_type_ids'][:MAX_SEQUENCE_LENGTH]])\n",
    "            inputs_to_model['attention_mask'] = torch.tensor([inputs_to_model['attention_mask'][:MAX_SEQUENCE_LENGTH]])\n",
    "\n",
    "            with torch.no_grad():\n",
    "                model_outputs = model(**inputs_to_model)\n",
    "            \n",
    "            overall_prob, overall_pred = torch.max(torch.softmax(model_outputs[0], dim=1), dim=1)\n",
    "            second_prob, second_pred = torch.max(torch.softmax(model_outputs[1], dim=1), dim=1)\n",
    "            predictions_product.append(\n",
    "                IDX_TO_PRODUCT_LABELS[overall_pred.item()]\n",
    "            )\n",
    "            predictions_issue.append(\n",
    "                IDX_TO_ISSUE_LABELS[second_pred.item()]\n",
    "            )\n",
    "\n",
    "            probability_product.append(\n",
    "                round(overall_prob[0].item(), 3)\n",
    "            )\n",
    "            probability_issue.append(\n",
    "                round(second_prob[0].item(), 3)\n",
    "            )\n",
    "        else:\n",
    "            predictions_product.append(None)\n",
    "            predictions_issue.append(None)\n",
    "\n",
    "            probability_product.append(None)\n",
    "            probability_issue.append(None)\n",
    "\n",
    "\n",
    "    df['product_predictions'] = predictions_product\n",
    "    df['product_pred_probability'] = probability_product\n",
    "    df['issue_predictions'] = predictions_issue\n",
    "    df['issue_pred_probability'] = probability_issue\n",
    "    return df"
   ]
  },
  {
   "cell_type": "code",
   "execution_count": 24,
   "metadata": {},
   "outputs": [],
   "source": [
    "test_df = pd.read_csv('data/test.csv')\n",
    "print(test_df.shape)\n",
    "test_df.head()"
   ]
  },
  {
   "cell_type": "code",
   "execution_count": 25,
   "metadata": {},
   "outputs": [
    {
     "data": {
      "text/html": [
       "<div>\n",
       "<style scoped>\n",
       "    .dataframe tbody tr th:only-of-type {\n",
       "        vertical-align: middle;\n",
       "    }\n",
       "\n",
       "    .dataframe tbody tr th {\n",
       "        vertical-align: top;\n",
       "    }\n",
       "\n",
       "    .dataframe thead th {\n",
       "        text-align: right;\n",
       "    }\n",
       "</style>\n",
       "<table border=\"1\" class=\"dataframe\">\n",
       "  <thead>\n",
       "    <tr style=\"text-align: right;\">\n",
       "      <th></th>\n",
       "      <th>product</th>\n",
       "      <th>issue</th>\n",
       "      <th>consumer_complaint</th>\n",
       "      <th>overall_sentiment_predictions</th>\n",
       "      <th>overall_sentiment_pred_probability</th>\n",
       "      <th>secondary_sentiment_predictions</th>\n",
       "      <th>secondary_sentiment_pred_probability</th>\n",
       "      <th>product_predictions</th>\n",
       "      <th>product_pred_probability</th>\n",
       "      <th>issue_predictions</th>\n",
       "      <th>issue_pred_probability</th>\n",
       "    </tr>\n",
       "  </thead>\n",
       "  <tbody>\n",
       "    <tr>\n",
       "      <th>0</th>\n",
       "      <td>Vehicle loan or lease</td>\n",
       "      <td>Managing the loan or lease</td>\n",
       "      <td>BMO Harris Bank engages in deceptive trade pra...</td>\n",
       "      <td>Vehicle loan or lease</td>\n",
       "      <td>0.894</td>\n",
       "      <td>Problems at the end of the loan or lease</td>\n",
       "      <td>0.605</td>\n",
       "      <td>Vehicle loan or lease</td>\n",
       "      <td>0.894</td>\n",
       "      <td>Problems at the end of the loan or lease</td>\n",
       "      <td>0.605</td>\n",
       "    </tr>\n",
       "    <tr>\n",
       "      <th>1</th>\n",
       "      <td>Vehicle loan or lease</td>\n",
       "      <td>Managing the loan or lease</td>\n",
       "      <td>In XXXX XXXX, I received an equipment loan thr...</td>\n",
       "      <td>Vehicle loan or lease</td>\n",
       "      <td>0.973</td>\n",
       "      <td>Managing the loan or lease</td>\n",
       "      <td>0.877</td>\n",
       "      <td>Vehicle loan or lease</td>\n",
       "      <td>0.973</td>\n",
       "      <td>Managing the loan or lease</td>\n",
       "      <td>0.877</td>\n",
       "    </tr>\n",
       "    <tr>\n",
       "      <th>2</th>\n",
       "      <td>Student loan</td>\n",
       "      <td>Dealing with your lender or servicer</td>\n",
       "      <td>I am enrolled in the Public Service Loan Forgi...</td>\n",
       "      <td>Student loan</td>\n",
       "      <td>0.999</td>\n",
       "      <td>Dealing with your lender or servicer</td>\n",
       "      <td>0.945</td>\n",
       "      <td>Student loan</td>\n",
       "      <td>0.999</td>\n",
       "      <td>Dealing with your lender or servicer</td>\n",
       "      <td>0.945</td>\n",
       "    </tr>\n",
       "    <tr>\n",
       "      <th>3</th>\n",
       "      <td>Vehicle loan or lease</td>\n",
       "      <td>Incorrect information on your report</td>\n",
       "      <td>This is an old account reporting since 2011. T...</td>\n",
       "      <td>Student loan</td>\n",
       "      <td>0.999</td>\n",
       "      <td>Dealing with your lender or servicer</td>\n",
       "      <td>0.799</td>\n",
       "      <td>Student loan</td>\n",
       "      <td>0.999</td>\n",
       "      <td>Dealing with your lender or servicer</td>\n",
       "      <td>0.799</td>\n",
       "    </tr>\n",
       "    <tr>\n",
       "      <th>4</th>\n",
       "      <td>Vehicle loan or lease</td>\n",
       "      <td>Managing the loan or lease</td>\n",
       "      <td>This company have been causing me grievances s...</td>\n",
       "      <td>Vehicle loan or lease</td>\n",
       "      <td>0.980</td>\n",
       "      <td>Struggling to pay your loan</td>\n",
       "      <td>0.418</td>\n",
       "      <td>Vehicle loan or lease</td>\n",
       "      <td>0.980</td>\n",
       "      <td>Struggling to pay your loan</td>\n",
       "      <td>0.418</td>\n",
       "    </tr>\n",
       "  </tbody>\n",
       "</table>\n",
       "</div>"
      ],
      "text/plain": [
       "                 product                                 issue  \\\n",
       "0  Vehicle loan or lease            Managing the loan or lease   \n",
       "1  Vehicle loan or lease            Managing the loan or lease   \n",
       "2           Student loan  Dealing with your lender or servicer   \n",
       "3  Vehicle loan or lease  Incorrect information on your report   \n",
       "4  Vehicle loan or lease            Managing the loan or lease   \n",
       "\n",
       "                                  consumer_complaint  \\\n",
       "0  BMO Harris Bank engages in deceptive trade pra...   \n",
       "1  In XXXX XXXX, I received an equipment loan thr...   \n",
       "2  I am enrolled in the Public Service Loan Forgi...   \n",
       "3  This is an old account reporting since 2011. T...   \n",
       "4  This company have been causing me grievances s...   \n",
       "\n",
       "  overall_sentiment_predictions  overall_sentiment_pred_probability  \\\n",
       "0         Vehicle loan or lease                               0.894   \n",
       "1         Vehicle loan or lease                               0.973   \n",
       "2                  Student loan                               0.999   \n",
       "3                  Student loan                               0.999   \n",
       "4         Vehicle loan or lease                               0.980   \n",
       "\n",
       "            secondary_sentiment_predictions  \\\n",
       "0  Problems at the end of the loan or lease   \n",
       "1                Managing the loan or lease   \n",
       "2      Dealing with your lender or servicer   \n",
       "3      Dealing with your lender or servicer   \n",
       "4               Struggling to pay your loan   \n",
       "\n",
       "   secondary_sentiment_pred_probability    product_predictions  \\\n",
       "0                                 0.605  Vehicle loan or lease   \n",
       "1                                 0.877  Vehicle loan or lease   \n",
       "2                                 0.945           Student loan   \n",
       "3                                 0.799           Student loan   \n",
       "4                                 0.418  Vehicle loan or lease   \n",
       "\n",
       "   product_pred_probability                         issue_predictions  \\\n",
       "0                     0.894  Problems at the end of the loan or lease   \n",
       "1                     0.973                Managing the loan or lease   \n",
       "2                     0.999      Dealing with your lender or servicer   \n",
       "3                     0.999      Dealing with your lender or servicer   \n",
       "4                     0.980               Struggling to pay your loan   \n",
       "\n",
       "   issue_pred_probability  \n",
       "0                   0.605  \n",
       "1                   0.877  \n",
       "2                   0.945  \n",
       "3                   0.799  \n",
       "4                   0.418  "
      ]
     },
     "execution_count": 25,
     "metadata": {},
     "output_type": "execute_result"
    }
   ],
   "source": [
    "df.head()"
   ]
  },
  {
   "cell_type": "code",
   "execution_count": 35,
   "metadata": {},
   "outputs": [
    {
     "name": "stdout",
     "output_type": "stream",
     "text": [
      "F1 Score for Product Prediction : 0.8350117423827834  | Issue Prediction : 0.5478804429185374\n"
     ]
    }
   ],
   "source": [
    "print(\n",
    "    'F1 Score for Product Prediction : {}  | Issue Prediction : {}'.format(\n",
    "        f1_score(y_true=df['product'], y_pred=df.product_predictions, average=\"weighted\"),\n",
    "        f1_score(y_true=df.issue, y_pred=df.issue_predictions, average='weighted')\n",
    "    )\n",
    ")"
   ]
  },
  {
   "cell_type": "code",
   "execution_count": 37,
   "metadata": {},
   "outputs": [
    {
     "name": "stdout",
     "output_type": "stream",
     "text": [
      "Accuracy Score for Product Prediction : 0.8415  | Issue Prediction : 0.575\n"
     ]
    }
   ],
   "source": [
    "print(\n",
    "    'Accuracy Score for Product Prediction : {}  | Issue Prediction : {}'.format(\n",
    "        accuracy_score(y_true=df['product'], y_pred=df.product_predictions),\n",
    "        accuracy_score(y_true=df.issue, y_pred=df.issue_predictions)\n",
    "    )\n",
    ")"
   ]
  },
  {
   "cell_type": "code",
   "execution_count": null,
   "metadata": {},
   "outputs": [],
   "source": []
  }
 ],
 "metadata": {
  "kernelspec": {
   "display_name": "pytorch2",
   "language": "python",
   "name": "pytorch2"
  },
  "language_info": {
   "codemirror_mode": {
    "name": "ipython",
    "version": 3
   },
   "file_extension": ".py",
   "mimetype": "text/x-python",
   "name": "python",
   "nbconvert_exporter": "python",
   "pygments_lexer": "ipython3",
   "version": "3.9.12"
  }
 },
 "nbformat": 4,
 "nbformat_minor": 2
}
