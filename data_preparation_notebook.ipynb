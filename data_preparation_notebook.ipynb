{
 "cells": [
  {
   "cell_type": "markdown",
   "metadata": {},
   "source": [
    "# Data Preparation Notebook"
   ]
  },
  {
   "cell_type": "code",
   "execution_count": 1,
   "metadata": {},
   "outputs": [],
   "source": [
    "import random\n",
    "random.seed(123)\n",
    "\n",
    "import pandas as pd\n",
    "import datasets\n",
    "from sklearn.model_selection import train_test_split"
   ]
  },
  {
   "cell_type": "markdown",
   "metadata": {},
   "source": [
    "## Loading the dataset "
   ]
  },
  {
   "cell_type": "code",
   "execution_count": 2,
   "metadata": {},
   "outputs": [
    {
     "name": "stderr",
     "output_type": "stream",
     "text": [
      "/tmp/ipykernel_707002/3991508967.py:1: DtypeWarning: Columns (16) have mixed types. Specify dtype option on import or set low_memory=False.\n",
      "  df = pd.read_csv('data/complaints.csv')\n"
     ]
    },
    {
     "name": "stdout",
     "output_type": "stream",
     "text": [
      "(5444636, 18)\n"
     ]
    },
    {
     "data": {
      "text/html": [
       "<div>\n",
       "<style scoped>\n",
       "    .dataframe tbody tr th:only-of-type {\n",
       "        vertical-align: middle;\n",
       "    }\n",
       "\n",
       "    .dataframe tbody tr th {\n",
       "        vertical-align: top;\n",
       "    }\n",
       "\n",
       "    .dataframe thead th {\n",
       "        text-align: right;\n",
       "    }\n",
       "</style>\n",
       "<table border=\"1\" class=\"dataframe\">\n",
       "  <thead>\n",
       "    <tr style=\"text-align: right;\">\n",
       "      <th></th>\n",
       "      <th>Date received</th>\n",
       "      <th>Product</th>\n",
       "      <th>Sub-product</th>\n",
       "      <th>Issue</th>\n",
       "      <th>Sub-issue</th>\n",
       "      <th>Consumer complaint narrative</th>\n",
       "      <th>Company public response</th>\n",
       "      <th>Company</th>\n",
       "      <th>State</th>\n",
       "      <th>ZIP code</th>\n",
       "      <th>Tags</th>\n",
       "      <th>Consumer consent provided?</th>\n",
       "      <th>Submitted via</th>\n",
       "      <th>Date sent to company</th>\n",
       "      <th>Company response to consumer</th>\n",
       "      <th>Timely response?</th>\n",
       "      <th>Consumer disputed?</th>\n",
       "      <th>Complaint ID</th>\n",
       "    </tr>\n",
       "  </thead>\n",
       "  <tbody>\n",
       "    <tr>\n",
       "      <th>0</th>\n",
       "      <td>2024-02-28</td>\n",
       "      <td>Credit reporting or other personal consumer re...</td>\n",
       "      <td>Credit reporting</td>\n",
       "      <td>Improper use of your report</td>\n",
       "      <td>Reporting company used your report improperly</td>\n",
       "      <td>NaN</td>\n",
       "      <td>NaN</td>\n",
       "      <td>EQUIFAX, INC.</td>\n",
       "      <td>UT</td>\n",
       "      <td>84124</td>\n",
       "      <td>NaN</td>\n",
       "      <td>Consent not provided</td>\n",
       "      <td>Web</td>\n",
       "      <td>2024-02-28</td>\n",
       "      <td>Closed with non-monetary relief</td>\n",
       "      <td>Yes</td>\n",
       "      <td>NaN</td>\n",
       "      <td>8440780</td>\n",
       "    </tr>\n",
       "    <tr>\n",
       "      <th>1</th>\n",
       "      <td>2024-06-08</td>\n",
       "      <td>Mortgage</td>\n",
       "      <td>Home equity loan or line of credit (HELOC)</td>\n",
       "      <td>Trouble during payment process</td>\n",
       "      <td>Payment process</td>\n",
       "      <td>NaN</td>\n",
       "      <td>Company has responded to the consumer and the ...</td>\n",
       "      <td>PENTAGON FEDERAL CREDIT UNION</td>\n",
       "      <td>AZ</td>\n",
       "      <td>85254</td>\n",
       "      <td>NaN</td>\n",
       "      <td>NaN</td>\n",
       "      <td>Web</td>\n",
       "      <td>2024-06-08</td>\n",
       "      <td>Closed with explanation</td>\n",
       "      <td>Yes</td>\n",
       "      <td>NaN</td>\n",
       "      <td>9208874</td>\n",
       "    </tr>\n",
       "    <tr>\n",
       "      <th>2</th>\n",
       "      <td>2024-06-03</td>\n",
       "      <td>Checking or savings account</td>\n",
       "      <td>Checking account</td>\n",
       "      <td>Managing an account</td>\n",
       "      <td>Deposits and withdrawals</td>\n",
       "      <td>NaN</td>\n",
       "      <td>Company has responded to the consumer and the ...</td>\n",
       "      <td>PENTAGON FEDERAL CREDIT UNION</td>\n",
       "      <td>NJ</td>\n",
       "      <td>08723</td>\n",
       "      <td>NaN</td>\n",
       "      <td>NaN</td>\n",
       "      <td>Phone</td>\n",
       "      <td>2024-06-03</td>\n",
       "      <td>Closed with explanation</td>\n",
       "      <td>Yes</td>\n",
       "      <td>NaN</td>\n",
       "      <td>9160068</td>\n",
       "    </tr>\n",
       "    <tr>\n",
       "      <th>3</th>\n",
       "      <td>2024-05-31</td>\n",
       "      <td>Credit reporting or other personal consumer re...</td>\n",
       "      <td>Credit reporting</td>\n",
       "      <td>Incorrect information on your report</td>\n",
       "      <td>Information belongs to someone else</td>\n",
       "      <td>NaN</td>\n",
       "      <td>NaN</td>\n",
       "      <td>LEXISNEXIS</td>\n",
       "      <td>DE</td>\n",
       "      <td>19808</td>\n",
       "      <td>NaN</td>\n",
       "      <td>NaN</td>\n",
       "      <td>Web</td>\n",
       "      <td>2024-05-31</td>\n",
       "      <td>Closed with explanation</td>\n",
       "      <td>Yes</td>\n",
       "      <td>NaN</td>\n",
       "      <td>9144264</td>\n",
       "    </tr>\n",
       "    <tr>\n",
       "      <th>4</th>\n",
       "      <td>2024-05-31</td>\n",
       "      <td>Credit reporting or other personal consumer re...</td>\n",
       "      <td>Credit reporting</td>\n",
       "      <td>Problem with fraud alerts or security freezes</td>\n",
       "      <td>NaN</td>\n",
       "      <td>NaN</td>\n",
       "      <td>NaN</td>\n",
       "      <td>ID Analytics, Inc.</td>\n",
       "      <td>AL</td>\n",
       "      <td>352XX</td>\n",
       "      <td>NaN</td>\n",
       "      <td>Other</td>\n",
       "      <td>Web</td>\n",
       "      <td>2024-05-31</td>\n",
       "      <td>Closed with explanation</td>\n",
       "      <td>Yes</td>\n",
       "      <td>NaN</td>\n",
       "      <td>9145470</td>\n",
       "    </tr>\n",
       "  </tbody>\n",
       "</table>\n",
       "</div>"
      ],
      "text/plain": [
       "  Date received                                            Product  \\\n",
       "0    2024-02-28  Credit reporting or other personal consumer re...   \n",
       "1    2024-06-08                                           Mortgage   \n",
       "2    2024-06-03                        Checking or savings account   \n",
       "3    2024-05-31  Credit reporting or other personal consumer re...   \n",
       "4    2024-05-31  Credit reporting or other personal consumer re...   \n",
       "\n",
       "                                  Sub-product  \\\n",
       "0                            Credit reporting   \n",
       "1  Home equity loan or line of credit (HELOC)   \n",
       "2                            Checking account   \n",
       "3                            Credit reporting   \n",
       "4                            Credit reporting   \n",
       "\n",
       "                                           Issue  \\\n",
       "0                    Improper use of your report   \n",
       "1                 Trouble during payment process   \n",
       "2                            Managing an account   \n",
       "3           Incorrect information on your report   \n",
       "4  Problem with fraud alerts or security freezes   \n",
       "\n",
       "                                       Sub-issue Consumer complaint narrative  \\\n",
       "0  Reporting company used your report improperly                          NaN   \n",
       "1                                Payment process                          NaN   \n",
       "2                       Deposits and withdrawals                          NaN   \n",
       "3            Information belongs to someone else                          NaN   \n",
       "4                                            NaN                          NaN   \n",
       "\n",
       "                             Company public response  \\\n",
       "0                                                NaN   \n",
       "1  Company has responded to the consumer and the ...   \n",
       "2  Company has responded to the consumer and the ...   \n",
       "3                                                NaN   \n",
       "4                                                NaN   \n",
       "\n",
       "                         Company State ZIP code Tags  \\\n",
       "0                  EQUIFAX, INC.    UT    84124  NaN   \n",
       "1  PENTAGON FEDERAL CREDIT UNION    AZ    85254  NaN   \n",
       "2  PENTAGON FEDERAL CREDIT UNION    NJ    08723  NaN   \n",
       "3                     LEXISNEXIS    DE    19808  NaN   \n",
       "4             ID Analytics, Inc.    AL    352XX  NaN   \n",
       "\n",
       "  Consumer consent provided? Submitted via Date sent to company  \\\n",
       "0       Consent not provided           Web           2024-02-28   \n",
       "1                        NaN           Web           2024-06-08   \n",
       "2                        NaN         Phone           2024-06-03   \n",
       "3                        NaN           Web           2024-05-31   \n",
       "4                      Other           Web           2024-05-31   \n",
       "\n",
       "      Company response to consumer Timely response? Consumer disputed?  \\\n",
       "0  Closed with non-monetary relief              Yes                NaN   \n",
       "1          Closed with explanation              Yes                NaN   \n",
       "2          Closed with explanation              Yes                NaN   \n",
       "3          Closed with explanation              Yes                NaN   \n",
       "4          Closed with explanation              Yes                NaN   \n",
       "\n",
       "   Complaint ID  \n",
       "0       8440780  \n",
       "1       9208874  \n",
       "2       9160068  \n",
       "3       9144264  \n",
       "4       9145470  "
      ]
     },
     "execution_count": 2,
     "metadata": {},
     "output_type": "execute_result"
    }
   ],
   "source": [
    "df = pd.read_csv('data/complaints.csv')\n",
    "print(df.shape)\n",
    "df.head()"
   ]
  },
  {
   "cell_type": "markdown",
   "metadata": {},
   "source": [
    "- We will just be using Product, Issue and Consumer complaint narrative"
   ]
  },
  {
   "cell_type": "code",
   "execution_count": 3,
   "metadata": {},
   "outputs": [
    {
     "data": {
      "text/html": [
       "<div>\n",
       "<style scoped>\n",
       "    .dataframe tbody tr th:only-of-type {\n",
       "        vertical-align: middle;\n",
       "    }\n",
       "\n",
       "    .dataframe tbody tr th {\n",
       "        vertical-align: top;\n",
       "    }\n",
       "\n",
       "    .dataframe thead th {\n",
       "        text-align: right;\n",
       "    }\n",
       "</style>\n",
       "<table border=\"1\" class=\"dataframe\">\n",
       "  <thead>\n",
       "    <tr style=\"text-align: right;\">\n",
       "      <th></th>\n",
       "      <th>Product</th>\n",
       "      <th>Issue</th>\n",
       "      <th>Consumer complaint narrative</th>\n",
       "    </tr>\n",
       "  </thead>\n",
       "  <tbody>\n",
       "    <tr>\n",
       "      <th>0</th>\n",
       "      <td>Credit reporting or other personal consumer re...</td>\n",
       "      <td>Improper use of your report</td>\n",
       "      <td>NaN</td>\n",
       "    </tr>\n",
       "    <tr>\n",
       "      <th>1</th>\n",
       "      <td>Mortgage</td>\n",
       "      <td>Trouble during payment process</td>\n",
       "      <td>NaN</td>\n",
       "    </tr>\n",
       "    <tr>\n",
       "      <th>2</th>\n",
       "      <td>Checking or savings account</td>\n",
       "      <td>Managing an account</td>\n",
       "      <td>NaN</td>\n",
       "    </tr>\n",
       "    <tr>\n",
       "      <th>3</th>\n",
       "      <td>Credit reporting or other personal consumer re...</td>\n",
       "      <td>Incorrect information on your report</td>\n",
       "      <td>NaN</td>\n",
       "    </tr>\n",
       "    <tr>\n",
       "      <th>4</th>\n",
       "      <td>Credit reporting or other personal consumer re...</td>\n",
       "      <td>Problem with fraud alerts or security freezes</td>\n",
       "      <td>NaN</td>\n",
       "    </tr>\n",
       "  </tbody>\n",
       "</table>\n",
       "</div>"
      ],
      "text/plain": [
       "                                             Product  \\\n",
       "0  Credit reporting or other personal consumer re...   \n",
       "1                                           Mortgage   \n",
       "2                        Checking or savings account   \n",
       "3  Credit reporting or other personal consumer re...   \n",
       "4  Credit reporting or other personal consumer re...   \n",
       "\n",
       "                                           Issue Consumer complaint narrative  \n",
       "0                    Improper use of your report                          NaN  \n",
       "1                 Trouble during payment process                          NaN  \n",
       "2                            Managing an account                          NaN  \n",
       "3           Incorrect information on your report                          NaN  \n",
       "4  Problem with fraud alerts or security freezes                          NaN  "
      ]
     },
     "execution_count": 3,
     "metadata": {},
     "output_type": "execute_result"
    }
   ],
   "source": [
    "df = df[['Product', 'Issue', 'Consumer complaint narrative']]\n",
    "df.head()"
   ]
  },
  {
   "cell_type": "code",
   "execution_count": 4,
   "metadata": {},
   "outputs": [
    {
     "data": {
      "text/plain": [
       "Product                               0\n",
       "Issue                                 6\n",
       "Consumer complaint narrative    3543607\n",
       "dtype: int64"
      ]
     },
     "execution_count": 4,
     "metadata": {},
     "output_type": "execute_result"
    }
   ],
   "source": [
    "df.isnull().sum()"
   ]
  },
  {
   "cell_type": "markdown",
   "metadata": {},
   "source": [
    "- We will drop all the rows with no consumer complaint"
   ]
  },
  {
   "cell_type": "code",
   "execution_count": 5,
   "metadata": {},
   "outputs": [
    {
     "data": {
      "text/plain": [
       "(1901029, 3)"
      ]
     },
     "execution_count": 5,
     "metadata": {},
     "output_type": "execute_result"
    }
   ],
   "source": [
    "df.dropna(subset=['Issue', 'Consumer complaint narrative'], inplace=True)\n",
    "df.shape"
   ]
  },
  {
   "cell_type": "markdown",
   "metadata": {},
   "source": [
    "- Just taking "
   ]
  },
  {
   "cell_type": "code",
   "execution_count": 6,
   "metadata": {},
   "outputs": [
    {
     "data": {
      "text/plain": [
       "array(['Credit reporting or other personal consumer reports',\n",
       "       'Debt collection',\n",
       "       'Money transfer, virtual currency, or money service', 'Mortgage',\n",
       "       'Credit card', 'Debt or credit management',\n",
       "       'Credit reporting, credit repair services, or other personal consumer reports',\n",
       "       'Checking or savings account', 'Vehicle loan or lease',\n",
       "       'Prepaid card', 'Student loan',\n",
       "       'Payday loan, title loan, personal loan, or advance loan',\n",
       "       'Credit card or prepaid card', 'Consumer Loan',\n",
       "       'Payday loan, title loan, or personal loan', 'Credit reporting',\n",
       "       'Payday loan', 'Bank account or service', 'Money transfers',\n",
       "       'Other financial service', 'Virtual currency'], dtype=object)"
      ]
     },
     "execution_count": 6,
     "metadata": {},
     "output_type": "execute_result"
    }
   ],
   "source": [
    "df['Product'].unique()"
   ]
  },
  {
   "cell_type": "code",
   "execution_count": 7,
   "metadata": {},
   "outputs": [],
   "source": [
    "product_categories_to_use = [\n",
    "    'Vehicle loan or lease', 'Student loan', 'Consumer Loan'\n",
    "]"
   ]
  },
  {
   "cell_type": "code",
   "execution_count": 8,
   "metadata": {},
   "outputs": [],
   "source": [
    "issue_categories_to_use = [\n",
    "    'Managing the loan or lease', 'Problems at the end of the loan or lease', 'Struggling to pay your loan', 'Getting a loan or lease',\n",
    "\n",
    "    'Dealing with your lender or servicer', 'Incorrect information on your report', 'Struggling to repay your loan', \n",
    "\n",
    "    'Problems when you are unable to pay', 'Taking out the loan or lease'\n",
    "]"
   ]
  },
  {
   "cell_type": "code",
   "execution_count": 9,
   "metadata": {},
   "outputs": [
    {
     "data": {
      "text/plain": [
       "(66805, 3)"
      ]
     },
     "execution_count": 9,
     "metadata": {},
     "output_type": "execute_result"
    }
   ],
   "source": [
    "df = df[(df.Product.isin(product_categories_to_use)) & (df.Issue.isin(issue_categories_to_use))]\n",
    "df.shape"
   ]
  },
  {
   "cell_type": "code",
   "execution_count": 10,
   "metadata": {},
   "outputs": [],
   "source": [
    "df.loc[df.Issue == 'Struggling to repay your loan', 'Issue'] = 'Struggling to pay your loan'"
   ]
  },
  {
   "cell_type": "code",
   "execution_count": 11,
   "metadata": {},
   "outputs": [
    {
     "data": {
      "text/html": [
       "<div>\n",
       "<style scoped>\n",
       "    .dataframe tbody tr th:only-of-type {\n",
       "        vertical-align: middle;\n",
       "    }\n",
       "\n",
       "    .dataframe tbody tr th {\n",
       "        vertical-align: top;\n",
       "    }\n",
       "\n",
       "    .dataframe thead th {\n",
       "        text-align: right;\n",
       "    }\n",
       "</style>\n",
       "<table border=\"1\" class=\"dataframe\">\n",
       "  <thead>\n",
       "    <tr style=\"text-align: right;\">\n",
       "      <th></th>\n",
       "      <th>Product</th>\n",
       "      <th>Issue</th>\n",
       "      <th>Consumer complaint narrative</th>\n",
       "    </tr>\n",
       "  </thead>\n",
       "  <tbody>\n",
       "    <tr>\n",
       "      <th>4709769</th>\n",
       "      <td>Vehicle loan or lease</td>\n",
       "      <td>Getting a loan or lease</td>\n",
       "      <td>Bank of America approved my auto loan based on...</td>\n",
       "    </tr>\n",
       "    <tr>\n",
       "      <th>2672943</th>\n",
       "      <td>Student loan</td>\n",
       "      <td>Dealing with your lender or servicer</td>\n",
       "      <td>When I was in medical school, according to the...</td>\n",
       "    </tr>\n",
       "    <tr>\n",
       "      <th>3906756</th>\n",
       "      <td>Vehicle loan or lease</td>\n",
       "      <td>Struggling to pay your loan</td>\n",
       "      <td>I am experiencing a Hardship financially due t...</td>\n",
       "    </tr>\n",
       "    <tr>\n",
       "      <th>1507463</th>\n",
       "      <td>Student loan</td>\n",
       "      <td>Dealing with your lender or servicer</td>\n",
       "      <td>Nelnet purchased my loan from Great Lakes. Whe...</td>\n",
       "    </tr>\n",
       "    <tr>\n",
       "      <th>3217121</th>\n",
       "      <td>Consumer Loan</td>\n",
       "      <td>Managing the loan or lease</td>\n",
       "      <td>On XX/XX/XXXX ( approximate ) I called Ally to...</td>\n",
       "    </tr>\n",
       "  </tbody>\n",
       "</table>\n",
       "</div>"
      ],
      "text/plain": [
       "                       Product                                 Issue  \\\n",
       "4709769  Vehicle loan or lease               Getting a loan or lease   \n",
       "2672943           Student loan  Dealing with your lender or servicer   \n",
       "3906756  Vehicle loan or lease           Struggling to pay your loan   \n",
       "1507463           Student loan  Dealing with your lender or servicer   \n",
       "3217121          Consumer Loan            Managing the loan or lease   \n",
       "\n",
       "                              Consumer complaint narrative  \n",
       "4709769  Bank of America approved my auto loan based on...  \n",
       "2672943  When I was in medical school, according to the...  \n",
       "3906756  I am experiencing a Hardship financially due t...  \n",
       "1507463  Nelnet purchased my loan from Great Lakes. Whe...  \n",
       "3217121  On XX/XX/XXXX ( approximate ) I called Ally to...  "
      ]
     },
     "execution_count": 11,
     "metadata": {},
     "output_type": "execute_result"
    }
   ],
   "source": [
    "temp_df = df.sample(10000)\n",
    "temp_df.head()"
   ]
  },
  {
   "cell_type": "code",
   "execution_count": 12,
   "metadata": {},
   "outputs": [
    {
     "data": {
      "text/plain": [
       "Student loan             4566\n",
       "Vehicle loan or lease    4168\n",
       "Consumer Loan            1266\n",
       "Name: Product, dtype: int64"
      ]
     },
     "execution_count": 12,
     "metadata": {},
     "output_type": "execute_result"
    }
   ],
   "source": [
    "temp_df.Product.value_counts()"
   ]
  },
  {
   "cell_type": "code",
   "execution_count": 13,
   "metadata": {},
   "outputs": [
    {
     "data": {
      "text/plain": [
       "Dealing with your lender or servicer        3434\n",
       "Managing the loan or lease                  2211\n",
       "Struggling to pay your loan                 1703\n",
       "Problems at the end of the loan or lease     900\n",
       "Getting a loan or lease                      630\n",
       "Incorrect information on your report         523\n",
       "Problems when you are unable to pay          357\n",
       "Taking out the loan or lease                 242\n",
       "Name: Issue, dtype: int64"
      ]
     },
     "execution_count": 13,
     "metadata": {},
     "output_type": "execute_result"
    }
   ],
   "source": [
    "temp_df.Issue.value_counts()"
   ]
  },
  {
   "cell_type": "code",
   "execution_count": 14,
   "metadata": {},
   "outputs": [
    {
     "data": {
      "text/html": [
       "<div>\n",
       "<style scoped>\n",
       "    .dataframe tbody tr th:only-of-type {\n",
       "        vertical-align: middle;\n",
       "    }\n",
       "\n",
       "    .dataframe tbody tr th {\n",
       "        vertical-align: top;\n",
       "    }\n",
       "\n",
       "    .dataframe thead th {\n",
       "        text-align: right;\n",
       "    }\n",
       "</style>\n",
       "<table border=\"1\" class=\"dataframe\">\n",
       "  <thead>\n",
       "    <tr style=\"text-align: right;\">\n",
       "      <th></th>\n",
       "      <th>product</th>\n",
       "      <th>issue</th>\n",
       "      <th>consumer_complaint</th>\n",
       "    </tr>\n",
       "  </thead>\n",
       "  <tbody>\n",
       "    <tr>\n",
       "      <th>4709769</th>\n",
       "      <td>Vehicle loan or lease</td>\n",
       "      <td>Getting a loan or lease</td>\n",
       "      <td>Bank of America approved my auto loan based on...</td>\n",
       "    </tr>\n",
       "    <tr>\n",
       "      <th>2672943</th>\n",
       "      <td>Student loan</td>\n",
       "      <td>Dealing with your lender or servicer</td>\n",
       "      <td>When I was in medical school, according to the...</td>\n",
       "    </tr>\n",
       "    <tr>\n",
       "      <th>3906756</th>\n",
       "      <td>Vehicle loan or lease</td>\n",
       "      <td>Struggling to pay your loan</td>\n",
       "      <td>I am experiencing a Hardship financially due t...</td>\n",
       "    </tr>\n",
       "    <tr>\n",
       "      <th>1507463</th>\n",
       "      <td>Student loan</td>\n",
       "      <td>Dealing with your lender or servicer</td>\n",
       "      <td>Nelnet purchased my loan from Great Lakes. Whe...</td>\n",
       "    </tr>\n",
       "    <tr>\n",
       "      <th>3217121</th>\n",
       "      <td>Consumer Loan</td>\n",
       "      <td>Managing the loan or lease</td>\n",
       "      <td>On XX/XX/XXXX ( approximate ) I called Ally to...</td>\n",
       "    </tr>\n",
       "  </tbody>\n",
       "</table>\n",
       "</div>"
      ],
      "text/plain": [
       "                       product                                 issue  \\\n",
       "4709769  Vehicle loan or lease               Getting a loan or lease   \n",
       "2672943           Student loan  Dealing with your lender or servicer   \n",
       "3906756  Vehicle loan or lease           Struggling to pay your loan   \n",
       "1507463           Student loan  Dealing with your lender or servicer   \n",
       "3217121          Consumer Loan            Managing the loan or lease   \n",
       "\n",
       "                                        consumer_complaint  \n",
       "4709769  Bank of America approved my auto loan based on...  \n",
       "2672943  When I was in medical school, according to the...  \n",
       "3906756  I am experiencing a Hardship financially due t...  \n",
       "1507463  Nelnet purchased my loan from Great Lakes. Whe...  \n",
       "3217121  On XX/XX/XXXX ( approximate ) I called Ally to...  "
      ]
     },
     "execution_count": 14,
     "metadata": {},
     "output_type": "execute_result"
    }
   ],
   "source": [
    "# renaming the columns for further processing\n",
    "\n",
    "temp_df.rename(\n",
    "    columns={\n",
    "        'Product': 'product', \"Issue\": 'issue', 'Consumer complaint narrative': 'consumer_complaint'\n",
    "    }, inplace=True\n",
    ")\n",
    "temp_df.head()"
   ]
  },
  {
   "cell_type": "markdown",
   "metadata": {},
   "source": [
    "## Creating Train, Test and Dev Splits"
   ]
  },
  {
   "cell_type": "code",
   "execution_count": 15,
   "metadata": {},
   "outputs": [
    {
     "data": {
      "text/plain": [
       "((6800, 3), (2000, 3), (1200, 3))"
      ]
     },
     "execution_count": 15,
     "metadata": {},
     "output_type": "execute_result"
    }
   ],
   "source": [
    "train, test = train_test_split(temp_df, test_size=0.2, stratify=temp_df.issue)\n",
    "train, val = train_test_split(train, test_size=0.15, stratify=train.issue)\n",
    "\n",
    "train.shape, test.shape, val.shape"
   ]
  },
  {
   "cell_type": "code",
   "execution_count": 16,
   "metadata": {},
   "outputs": [
    {
     "data": {
      "text/plain": [
       "Dealing with your lender or servicer        2335\n",
       "Managing the loan or lease                  1504\n",
       "Struggling to pay your loan                 1158\n",
       "Problems at the end of the loan or lease     612\n",
       "Getting a loan or lease                      428\n",
       "Incorrect information on your report         355\n",
       "Problems when you are unable to pay          243\n",
       "Taking out the loan or lease                 165\n",
       "Name: issue, dtype: int64"
      ]
     },
     "execution_count": 16,
     "metadata": {},
     "output_type": "execute_result"
    }
   ],
   "source": [
    "train.issue.value_counts()"
   ]
  },
  {
   "cell_type": "code",
   "execution_count": 17,
   "metadata": {},
   "outputs": [
    {
     "data": {
      "text/plain": [
       "Dealing with your lender or servicer        412\n",
       "Managing the loan or lease                  265\n",
       "Struggling to pay your loan                 204\n",
       "Problems at the end of the loan or lease    108\n",
       "Getting a loan or lease                      76\n",
       "Incorrect information on your report         63\n",
       "Problems when you are unable to pay          43\n",
       "Taking out the loan or lease                 29\n",
       "Name: issue, dtype: int64"
      ]
     },
     "execution_count": 17,
     "metadata": {},
     "output_type": "execute_result"
    }
   ],
   "source": [
    "val.issue.value_counts()"
   ]
  },
  {
   "cell_type": "code",
   "execution_count": 18,
   "metadata": {},
   "outputs": [
    {
     "data": {
      "text/plain": [
       "Dealing with your lender or servicer        687\n",
       "Managing the loan or lease                  442\n",
       "Struggling to pay your loan                 341\n",
       "Problems at the end of the loan or lease    180\n",
       "Getting a loan or lease                     126\n",
       "Incorrect information on your report        105\n",
       "Problems when you are unable to pay          71\n",
       "Taking out the loan or lease                 48\n",
       "Name: issue, dtype: int64"
      ]
     },
     "execution_count": 18,
     "metadata": {},
     "output_type": "execute_result"
    }
   ],
   "source": [
    "test.issue.value_counts()"
   ]
  },
  {
   "cell_type": "code",
   "execution_count": 19,
   "metadata": {},
   "outputs": [],
   "source": [
    "train.to_csv('data/train.csv', index=False)\n",
    "val.to_csv('data/val.csv', index=False)\n",
    "test.to_csv('data/test.csv', index=False)"
   ]
  },
  {
   "cell_type": "markdown",
   "metadata": {},
   "source": [
    "## Creating Datasets object"
   ]
  },
  {
   "cell_type": "code",
   "execution_count": 20,
   "metadata": {},
   "outputs": [
    {
     "data": {
      "text/plain": [
       "DatasetDict({\n",
       "    train: Dataset({\n",
       "        features: ['product', 'issue', 'consumer_complaint', '__index_level_0__'],\n",
       "        num_rows: 6800\n",
       "    })\n",
       "    val: Dataset({\n",
       "        features: ['product', 'issue', 'consumer_complaint', '__index_level_0__'],\n",
       "        num_rows: 1200\n",
       "    })\n",
       "    test: Dataset({\n",
       "        features: ['product', 'issue', 'consumer_complaint', '__index_level_0__'],\n",
       "        num_rows: 2000\n",
       "    })\n",
       "})"
      ]
     },
     "execution_count": 20,
     "metadata": {},
     "output_type": "execute_result"
    }
   ],
   "source": [
    "data = datasets.DatasetDict(\n",
    "    {\n",
    "        'train': datasets.Dataset.from_pandas(train),\n",
    "        'val': datasets.Dataset.from_pandas(val),\n",
    "        'test': datasets.Dataset.from_pandas(test)\n",
    "    }\n",
    ")\n",
    "data"
   ]
  },
  {
   "cell_type": "code",
   "execution_count": 21,
   "metadata": {},
   "outputs": [
    {
     "data": {
      "application/vnd.jupyter.widget-view+json": {
       "model_id": "1a63b6b05bd54ef3823cd83f753a334f",
       "version_major": 2,
       "version_minor": 0
      },
      "text/plain": [
       "Saving the dataset (0/1 shards):   0%|          | 0/6800 [00:00<?, ? examples/s]"
      ]
     },
     "metadata": {},
     "output_type": "display_data"
    },
    {
     "data": {
      "application/vnd.jupyter.widget-view+json": {
       "model_id": "d01bc13cb7a14505b19b3bc8d1060ffa",
       "version_major": 2,
       "version_minor": 0
      },
      "text/plain": [
       "Saving the dataset (0/1 shards):   0%|          | 0/1200 [00:00<?, ? examples/s]"
      ]
     },
     "metadata": {},
     "output_type": "display_data"
    },
    {
     "data": {
      "application/vnd.jupyter.widget-view+json": {
       "model_id": "7cc924b448804ee39444b476f2ecf015",
       "version_major": 2,
       "version_minor": 0
      },
      "text/plain": [
       "Saving the dataset (0/1 shards):   0%|          | 0/2000 [00:00<?, ? examples/s]"
      ]
     },
     "metadata": {},
     "output_type": "display_data"
    }
   ],
   "source": [
    "data.save_to_disk('data/complaints_dataset_obj')"
   ]
  },
  {
   "cell_type": "code",
   "execution_count": 22,
   "metadata": {},
   "outputs": [
    {
     "name": "stdout",
     "output_type": "stream",
     "text": [
      "National Collegiate Trust ( NCT ) is the owner of one of my student loans ; they are a terrible company that offers no repayment options other than pay every month on time or we will ruin your credit. One day late is considered delinquent, and my minimum amount due has increased every other month for the last 3 years. I have attempted to make my monthly payments on time every month, and to pay more than the minimum monthly requirement to pay off the loan early, or at least attempt to. However, NCT has made it impossible for me to EVER pay off or reduce the principal of my loan. They have raised the interest rate on my private student loan 9 times betweenXX/XX/XXXX and XX/XX/XXXX, I have proof in notices. That is just this past year ; my monthly payment increases almost every time I send a payment in. Making it impossible to ever budget or correctly asses my monthly finances, I have no idea how much my expenses will increase month over month because of this payment.\n",
      "I am currently paying just shy of {$200.00} per month for this loan, with the interest rate increasing and never decreasing, although American Education Services ( who services the loan ) informed me that the variable rate means it \" could '' potentially decrease but they have never witnessed it. I am well aware that increasing the interest rate is only increasing the amount of money NCT is making off the loan, and they have absolutely no repayment options available other than to keep paying the loan until while starve to death, which at this point is a possibility. And one day late is considered delinquent, which negatively affects my credit report making it impossible to receive any sort of credit or financial assistance. I am stuck in a catch 22 of paying my payments on time every month in an attempt to retain some good credit, while they continue to increase my payment for no reason other than to make more money for National Collegiate Trust.\n",
      "\n",
      "I have a XXXX got on fire I spend over five Thousand prepare the XXXX I sill have a loan on the vehicle it was a recall on the vehicle for start fire and problem with the engine the car do not work do to fire and can not be prepare the car should not been sold\n",
      "\n",
      "My Insurance payed most of the loan off and gap insurance payed the remaining balance Ally Financial has been an unprofessional company and their customer service receptionist are very rude and unprofessional this claim has been prolong too long and they have received checks to pay off the vehicle its affecting my credit and me chances of getting approved for another vehicle i will like this problem to be resolved I recommend no one to deal with ally aleast you want deal with unprofessional company that dont tell information correctly and prolong situautions for a long time and dont care how it affects the customer\n",
      "\n",
      "Our lease on our GMC XXXX completed in XX/XX/XXXX. We received our final bill that included the excess miles which we agreed were correct in XX/XX/XXXX. We immediately sent a check for the full amount and it was cashed, see attached. I also sent back the bill along with the check ( but did not keep a copy for myself since this was the 1st time we have ever gone over miles I never in my life would have thought such a issue could arise ) Every single month there after they called us and sent bills. Each bill was returned with a copy of the cashed check as proof it was paid.\n",
      "\n",
      "Every phone call they made to us ( and it was a lot ) we spoke to someone who could not speak English well enough to understand that we sent the check already and it had been cashed. No one could understand this. After several months of this going on ( literally 15-20 calls a month! ) I demanded I speak with a manger. They put on the line a man who spoke English very well and he apologized for the error. He looked into our account and said that it was in fact paid and he isn't sure how this went so long without anyone fixing it. From that point forward we have never got another letter or bill so I assumed it was fixed. \n",
      "\n",
      "Fast forward to XX/XX/XXXX, I applied for a credit card and was declined due to GMC putting a very late over 120 days payment on my credit. I believe it to be on my husbands credit as well. I have tried to reach someone at GMC financial to get this removed and have been unable to get anyone who can help me. \n",
      "\n",
      "They are falsely reporting we did not pay. We paid the invoice as soon as it arrived and now I'm not able to get a credit card for my small business. This is very upsetting and cost me hours and hours of time to get it straight. A bank person recently suggested I reach out here. I am so hopeful you can help get this fixed and remove the damage that has been done to our credit incorrectly.\n",
      "\n",
      "I never got or requested a loan from Great Lakes or no other loan company. I never signed for a loan.\n",
      "\n",
      "We started with thus loan in XXXX at the price of XXXX. As if to date XX/XX/XXXX we still owe XXXX, XXXX 7 years later. We have yes asked a five extensions due to covid but have been making payments of over {$400.00} a month on this vehicle and we have only had a little over XXXX dollars put towards principle. There is a problem. \n",
      "There are 24 other people that we have on a list that are going through the same issues as we are and hundreds more on Consumer reports concerning Regional Acceptance. Our Vehicle is still in the whole. Need help. \n",
      "Sincerely, XXXX XXXX\n",
      "\n",
      "TransUnion is reporting inaccurate data on my credit report, stating that I was late XXXX, XXXX and XXXX of XXXX. I was not late, for the year of XXXX and the credit bureau is reporting that my accounts is saying ok, ok, ok starting from XXXX all the way up until XXXX, but XXXX, XXXX, and XXXX it states 90 days late 120 days late and 120 days late, what happened to 30 and 60 days late if I was really late. I was in a repayment plan. I signed up to renew my repayment plan in XX/XX/XXXX which covered the entire year of XXXX. After speaking to someone about this issue, no one has been able to provide me any documented proof about these so called late payments. Therefore, remove these late payments immediately or there will be a lawsuit against the credit bureaus for fraud. They even defraud my information listed on these accounts by not showing all the information from XXXX and up, like they did from previous documents that they sent me. They make it appear that those late payments started in XXXX, but and are claiming that they don't have any information from XXXX to XXXX.\n",
      "\n",
      "They charged me way too much for a used car loan. They charged me a very high interest rate. The put negative remarks on my credit, they charged me way too much in late fees, when I traded the car in they gave very little money. They over charged me for everything they really ripped me off\n",
      "\n",
      "Loan payment was due on XXXX XXXX. I have been Ill and I am in the process of filing bankruptcy. I came home to find a business card in my door from the manager of Sun Loan Company in XXXX Missouri with the amount I owe instructing me to get \" ahold '' of us. \n",
      "This was next to a notification of a package delivery. I feel I had notified them of my intentions of Bankruptcy. I did change attorneys. I also advised them of being ill and my inability to pay.\n",
      "\n",
      "I XXXX XXXX am a man and am currently engaged in a contract with ALLY .On XXXX/XXXX/15 I made the payment requested by Ally VIN : XXXX Most Recent Payment : $ XXXXReceived : XXXX/XXXX/2015. I was told this was the payment due with no explanation why .I assumed it was an voluntary corrective action because on the \" enforcement '' action against them earlier.then I rec 'd this notification Next Payment : $ XXXXI contacted ally who said that the payment for XXXX/XXXX/15 was so much less because I had overpaid. they said that the overage went to the principle .I told them the payments made in the past were including the late fee 's ..then I rec 'd this notification Next Payment : $ XXXXDue On : XXXX/XXXX/2015 Past Due Amount : {$440.00} Due On : XX/XX/2015Additional Charges : $ XXXXnotice the difference between XXXX and the \" additional charges \" of XXXX. there were no \" additional '' charges prior to XX/XX/XXXX. I believe these charges are retribution against me for having the \" gall '' to question them. also because I stand to benefit from the enforcement action against them. notice in the payment history there are no '' other '' charges. I feel that this documentation proves that Ally has not dealt with me in good faith, that they have caused me damage due to their continuing discriminatory practices. I claim discrimination against me based on my race.\n",
      "\n"
     ]
    }
   ],
   "source": [
    "for i in val.consumer_complaint.to_list()[:10]:\n",
    "    print(i)\n",
    "    print()"
   ]
  },
  {
   "cell_type": "markdown",
   "metadata": {},
   "source": [
    "## lets also explore the length of the complaints"
   ]
  },
  {
   "cell_type": "code",
   "execution_count": 23,
   "metadata": {},
   "outputs": [
    {
     "data": {
      "text/plain": [
       "<AxesSubplot:>"
      ]
     },
     "execution_count": 23,
     "metadata": {},
     "output_type": "execute_result"
    },
    {
     "data": {
      "image/png": "[encoded data removed]",
      "text/plain": [
       "<Figure size 640x480 with 1 Axes>"
      ]
     },
     "metadata": {},
     "output_type": "display_data"
    }
   ],
   "source": [
    "train['cc_length'] = [len(i.split()) for i in train.consumer_complaint]"
   ]
  },
  {
   "cell_type": "code",
   "execution_count": 26,
   "metadata": {},
   "outputs": [
    {
     "data": {
      "text/plain": [
       "<AxesSubplot:>"
      ]
     },
     "execution_count": 26,
     "metadata": {},
     "output_type": "execute_result"
    },
    {
     "data": {
      "image/png": "[encoded data removed]",
      "text/plain": [
       "<Figure size 640x480 with 1 Axes>"
      ]
     },
     "metadata": {},
     "output_type": "display_data"
    }
   ],
   "source": [
    "\n",
    "train.cc_length.hist(bins=1000)"
   ]
  },
  {
   "cell_type": "markdown",
   "metadata": {},
   "source": [
    "- We can say most of our complaints our of length 800-900 words. \n",
    "- After tokenization this length will increase\n",
    "- This can be a limitation because BERT-based models have a Max Sequence Length of 512. \n",
    "- In this tutorial we will cut the length to 512 while training and predicting. "
   ]
  },
  {
   "cell_type": "code",
   "execution_count": null,
   "metadata": {},
   "outputs": [],
   "source": []
  }
 ],
 "metadata": {
  "kernelspec": {
   "display_name": "pytorch2",
   "language": "python",
   "name": "pytorch2"
  },
  "language_info": {
   "codemirror_mode": {
    "name": "ipython",
    "version": 3
   },
   "file_extension": ".py",
   "mimetype": "text/x-python",
   "name": "python",
   "nbconvert_exporter": "python",
   "pygments_lexer": "ipython3",
   "version": "3.9.12"
  }
 },
 "nbformat": 4,
 "nbformat_minor": 2
}
